{
 "cells": [
  {
   "cell_type": "code",
   "execution_count": 305,
   "metadata": {},
   "outputs": [],
   "source": [
    "import numpy as np\n",
    "import matplotlib.pyplot as plt\n",
    "import matplotlib as mpl\n",
    "import seaborn as sns\n",
    "\n",
    "from scipy.optimize import minimize\n",
    "from scipy.optimize import least_squares\n"
   ]
  },
  {
   "cell_type": "code",
   "execution_count": 306,
   "metadata": {},
   "outputs": [
    {
     "name": "stdout",
     "output_type": "stream",
     "text": [
      "seed =  169933787070148887710115322595851363413\n"
     ]
    },
    {
     "data": {
      "text/plain": [
       "array([ 0.09468954, -0.77946739,  1.08979669,  0.55122044, -1.09993075])"
      ]
     },
     "execution_count": 306,
     "metadata": {},
     "output_type": "execute_result"
    }
   ],
   "source": [
    "from numpy.random import default_rng, SeedSequence\n",
    "\n",
    "sq = SeedSequence()\n",
    "seed = sq.entropy        # on sauve la graine pour reproduire les résultats\n",
    "print('seed = ', seed)\n",
    "rng = default_rng(sq)\n",
    "rng.standard_normal(5)"
   ]
  },
  {
   "cell_type": "code",
   "execution_count": 307,
   "metadata": {},
   "outputs": [],
   "source": [
    "sns.set_style(\"whitegrid\")\n",
    "mpl.rcParams['figure.dpi'] = 100\n",
    "\n",
    "params_grid = {\"color\": 'lightgrey', \"linestyle\": 'dotted', \"linewidth\": 0.7 }"
   ]
  },
  {
   "cell_type": "code",
   "execution_count": 308,
   "metadata": {},
   "outputs": [],
   "source": [
    "# Pamètre du model\n",
    "N = 10      \n",
    "M = 10000\n",
    "T = 1\n",
    "S0 = 100\n",
    "K = 100\n",
    "sigma = 0.1\n",
    "r = 0.04"
   ]
  },
  {
   "cell_type": "markdown",
   "metadata": {},
   "source": [
    "Programmer l'algorithme de Longstaff-Schwartz (celui vu en cours, le dernier!) pour un Put bermudéen dans un modèle de Black-Scholes, c'est à dire un put que l'on peut exercer aux dates $k/N$, $k=0,\\dots,N$. On prendra $r=0.04$, $\\sigma=0.1$, $x_0=100$ et le strike $K=100$ avec $N=10$ dates jusqu'en $T=1$ et le payoff $\\phi_k(x) = e^{-r k/N}(K-x)_+$."
   ]
  },
  {
   "cell_type": "code",
   "execution_count": 309,
   "metadata": {},
   "outputs": [],
   "source": [
    "def brownian_1d(n_times: int, n_paths: int, \n",
    "                final_time: float=1.0, \n",
    "                increments: bool=False, \n",
    "                random_state: np.random.Generator=rng) -> np.array:\n",
    "    \"\"\"Simulate paths of standard Brownian motion\n",
    "    Args:\n",
    "        n_times: Number of timesteps\n",
    "        n_paths: Number of paths \n",
    "        final_time: Final time of simulation\n",
    "        increments: If `True` the increments of the paths are returned.\n",
    "        random_state: `np.random.Generator` used for simulation\n",
    "    Returns:\n",
    "        `np.array` of shape `(n_times+1, n_paths)` containing the paths if the argument `increments` is `False`\n",
    "        `np.array` of shape `(n_times, n_paths)` containing the increments if the argument `increments` is `True`\n",
    "    \"\"\"\n",
    "    dB = np.sqrt(final_time / n_times) * random_state.standard_normal((n_times, n_paths))\n",
    "    if increments:\n",
    "        return dB\n",
    "    else:\n",
    "        brownian = np.zeros((n_times+1, n_paths))\n",
    "        brownian[1:] = np.cumsum(dB, axis=0)\n",
    "        return brownian\n",
    "\n",
    "def black_scholes_1d(n_times: int, n_paths: int, \n",
    "                     final_time: float=1.0, \n",
    "                     random_state: np.random.Generator=rng, *,\n",
    "                     init_value: float,\n",
    "                     r: float, sigma: float) -> np.array:\n",
    "    \"\"\"Simulate paths of Black-Scholes process\n",
    "    Args:\n",
    "        n_times: Number of timesteps\n",
    "        n_paths: Number of paths \n",
    "        final_time: Final time of simulation\n",
    "        init_value: `S0`\n",
    "        r: Interest rate\n",
    "        sigma: Volatility\n",
    "        random_state: `np.random.Generator` used for simulation\n",
    "    Returns:\n",
    "        `np.array` of shape `(n_times+1, n_paths)` containing the paths \n",
    "    \"\"\"\n",
    "    Bt = brownian_1d(n_times, n_paths)\n",
    "    times = np.arange(n_times+1)*(1/n_times)\n",
    "    t = times[:, np.newaxis]\n",
    "    St = init_value * np.exp((r - 0.5*sigma**2)*t + sigma*Bt)\n",
    "    return St"
   ]
  },
  {
   "cell_type": "markdown",
   "metadata": {},
   "source": [
    "Pour trouver la valeur $V_0$, on applique la récurrence backward suivante : \n",
    "\n",
    "$V_N(x) = \\phi_N(x)$\n",
    "\n",
    "et $V_n(x) = max(\\phi_n(x), \\Phi(x,\\theta_n))$\n",
    "\n",
    "avec $\\theta_n = argmin_\\theta \\sum_{j=1}^{M} \\left( V_{n+1}(X_{n+1}^{(j)}) - \\Phi(X_{n}^{(j)}, \\theta) \\right)^2$"
   ]
  },
  {
   "cell_type": "markdown",
   "metadata": {},
   "source": [
    "pour $\\Phi$ on a le choix entre deux familles de fonctions : \n",
    "\n",
    "$\\Phi(x) = \\theta_0+\\theta_1*x+\\theta_2*x^2$ \n",
    "\n",
    "ou\n",
    "\n",
    " $\\Phi(x) = \\theta_0+\\theta_1*x+\\theta_2*x^2+\\theta_3*max(K-x, 0)$"
   ]
  },
  {
   "cell_type": "markdown",
   "metadata": {},
   "source": [
    "Dans la suite j'ai utilisé la deuxième version de $\\Phi$ mais on trouvera à la fin les résultats pour la première version"
   ]
  },
  {
   "cell_type": "code",
   "execution_count": 310,
   "metadata": {},
   "outputs": [],
   "source": [
    "def psi(x, theta, K):\n",
    "    return theta[0]+theta[1]*x+theta[2]*(x**2)+theta[3]*max(K-x, 0)\n",
    "\n",
    "def phi(x, K, k, N):\n",
    "    return np.exp(-r*k/N)*np.maximum(K-x, 0)\n",
    "\n",
    "#meme fonction que la précédente mais elle me permet de manipuler des tableaux\n",
    "#et sera donc utile lorsque je ferai une régression pour trouver theta à partir d'une simulation de prix Black Scholes\n",
    "def psi_regression(x, K, k, N): \n",
    "    return np.exp(-r*k/N)*np.maximum(K-x[k], 0)\n",
    "\n",
    "#Fonction dont on cherche l'argmin theta\n",
    "def objective_function(theta, M, S, n, K, thetas):\n",
    "    result = 0\n",
    "    for j in range(M):\n",
    "        result += (V(S[n+1][j], n+1, thetas[-1], N, K) - psi(S[n][j], theta, K))**2\n",
    "    return result/M\n",
    "\n",
    "def V(x, n, theta,N, K):\n",
    "    if n == N:\n",
    "        return phi(x,K,N,N)\n",
    "    else:\n",
    "        return max(phi(x, K,n,N), psi(x, theta, K))\n",
    "    "
   ]
  },
  {
   "cell_type": "markdown",
   "metadata": {},
   "source": [
    "# Avec minimize de Scipy"
   ]
  },
  {
   "cell_type": "code",
   "execution_count": 311,
   "metadata": {},
   "outputs": [],
   "source": [
    "def longstaff_Schwartz_scipy(x0, K, T, N, M):\n",
    "    V_hat = [phi(x0, K,N, N)]\n",
    "    S_t = black_scholes_1d(n_times=N, n_paths=M, final_time= T, init_value=x0, r = r, sigma = sigma)\n",
    "    thetas = [[0,0,0,0]]#Peut importe les valeurs, on V_N ne dépend pas de theta\n",
    "    for n in reversed(range(N)):\n",
    "        print(n)\n",
    "        initial_theta = np.ones(4)\n",
    "\n",
    "        theta = minimize(objective_function, initial_theta, args=(M, S_t, n, K, thetas))\n",
    "        optimized_theta = theta.x\n",
    "        print(optimized_theta)\n",
    "        V_hat.append(max(phi(x0, K,n,N), psi(x0, optimized_theta, K)))\n",
    "        thetas.append(optimized_theta)\n",
    "    return V_hat, thetas"
   ]
  },
  {
   "cell_type": "code",
   "execution_count": 312,
   "metadata": {},
   "outputs": [
    {
     "name": "stdout",
     "output_type": "stream",
     "text": [
      "9\n"
     ]
    },
    {
     "name": "stdout",
     "output_type": "stream",
     "text": [
      "[ 2.32729040e+01 -3.98122975e-01  1.69609181e-03  8.03064089e-01]\n",
      "8\n",
      "[ 4.44173419e+01 -7.64834854e-01  3.28460072e-03  7.13586067e-01]\n",
      "7\n",
      "[ 6.24710709e+01 -1.08220884e+00  4.68116164e-03  6.39028925e-01]\n",
      "6\n",
      "[ 9.25867320e+01 -1.62136749e+00  7.09478070e-03  5.31064478e-01]\n",
      "5\n",
      "[ 1.09221923e+02 -1.92100126e+00  8.44920875e-03  4.66703637e-01]\n",
      "4\n",
      "[ 1.28829597e+02 -2.27645733e+00  1.00664123e-02  3.93724232e-01]\n",
      "3\n",
      "[ 1.49432304e+02 -2.65549694e+00  1.18172862e-02  3.21214846e-01]\n",
      "2\n",
      "[ 1.57340315e+02 -2.79469611e+00  1.24377990e-02  2.85051735e-01]\n",
      "1\n",
      "[ 0.98128114  0.24765153 -0.00234271  0.4253036 ]\n",
      "0\n",
      "[ 1.00039978  1.0013279  -0.00984468  1.        ]\n",
      "([0.0, 0.42152454638333126, 0.7798637186095547, 1.0618032576919774, 1.3977903352825507, 1.6138846064209247, 1.8479867753644328, 2.055471418934985, 2.248694025221866, 2.3193115166159792, 2.686435964713752], [[0, 0, 0, 0], array([ 2.32729040e+01, -3.98122975e-01,  1.69609181e-03,  8.03064089e-01]), array([ 4.44173419e+01, -7.64834854e-01,  3.28460072e-03,  7.13586067e-01]), array([ 6.24710709e+01, -1.08220884e+00,  4.68116164e-03,  6.39028925e-01]), array([ 9.25867320e+01, -1.62136749e+00,  7.09478070e-03,  5.31064478e-01]), array([ 1.09221923e+02, -1.92100126e+00,  8.44920875e-03,  4.66703637e-01]), array([ 1.28829597e+02, -2.27645733e+00,  1.00664123e-02,  3.93724232e-01]), array([ 1.49432304e+02, -2.65549694e+00,  1.18172862e-02,  3.21214846e-01]), array([ 1.57340315e+02, -2.79469611e+00,  1.24377990e-02,  2.85051735e-01]), array([ 0.98128114,  0.24765153, -0.00234271,  0.4253036 ]), array([ 1.00039978,  1.0013279 , -0.00984468,  1.        ])])\n"
     ]
    }
   ],
   "source": [
    "price_scipy = longstaff_Schwartz_scipy(S0, K, T, N, M)\n",
    "print(price_scipy)"
   ]
  },
  {
   "cell_type": "code",
   "execution_count": 313,
   "metadata": {},
   "outputs": [
    {
     "name": "stdout",
     "output_type": "stream",
     "text": [
      "Le prix d'un Put bermudéen avec scipy est  2.686435964713752 $\n"
     ]
    }
   ],
   "source": [
    "print(\"Le prix d'un Put bermudéen avec scipy est \", price_scipy[0][-1], \"$\")"
   ]
  },
  {
   "cell_type": "markdown",
   "metadata": {},
   "source": [
    "Le Prix est un peu long pour être obtenu mais est proche du prix théorique obtenu par le modèle CRR (on obtient 2.61$ avec ce modèle)(cf TP1)"
   ]
  },
  {
   "cell_type": "markdown",
   "metadata": {},
   "source": [
    "# Avec Regression Linéaire"
   ]
  },
  {
   "cell_type": "markdown",
   "metadata": {},
   "source": [
    "Pour pouvoir effectuer une régression linéaire il faut générer des valeurs d'entrainements pour V. Pour cela on utilise la récurrence backward suivante :\n",
    "\n",
    "$V_N(x) = \\phi_N(x)$\n",
    "\n",
    "$V_n(x) = max(\\phi_n(x), \\mathbb{E}\\left[V_{n+1} \\mid \\mathcal{F}_n\\right] )$ "
   ]
  },
  {
   "cell_type": "code",
   "execution_count": 330,
   "metadata": {},
   "outputs": [],
   "source": [
    "def simulate_V(S,K,r,n,V):\n",
    "    if n==-1:\n",
    "        return V\n",
    "    else : \n",
    "        V[n] = np.maximum(psi_regression(S,K,n,N),V[n+1])\n",
    "        return simulate_V(S,K,r,n-1,V)\n",
    "\n",
    "def theta_regressions(X, y, K):\n",
    "    n_times = X.shape[0]\n",
    "    theta_matrix = np.zeros((n_times-1, 4))\n",
    "\n",
    "    # EStimateur OlS\n",
    "    theta_matrix[1:, :] = [\n",
    "        np.linalg.inv(np.c_[np.ones((X_i.shape[0], 1)), X_i, X_i**2, np.maximum(K - X_i, 0)].T.dot(np.c_[np.ones((X_i.shape[0], 1)), X_i, X_i**2, np.maximum(K - X_i, 0)]))\n",
    "        .dot(np.c_[np.ones((X_i.shape[0], 1)), X_i, X_i**2, np.maximum(K - X_i, 0)].T)\n",
    "        .dot(y[i, :].reshape(-1, 1)).flatten()\n",
    "        for i, X_i in enumerate(X[1:-1, :])\n",
    "    ]\n",
    "\n",
    "    return theta_matrix\n",
    "\n",
    "def longstaff_Schwartz_regression(x0, K, T, N, M):\n",
    "    S_t = black_scholes_1d(n_times=N, n_paths=M, final_time= T, init_value=x0, r = r, sigma = sigma)\n",
    "    thetas = []\n",
    "\n",
    "    V_simu = np.zeros_like(S_t)\n",
    "    V_simu[-1] = psi_regression(S_t, K, N, N)\n",
    "\n",
    "    V_simu = simulate_V(S_t,K,r,V_simu.shape[0]-2,V_simu)\n",
    "    theta_matrix = theta_regressions(S_t, V_simu, K)\n",
    "    print(theta_matrix)\n",
    "    V_hat = []\n",
    "    for n in range(N):\n",
    "        print(n)\n",
    "        \n",
    "        optimized_theta = theta_matrix[n]\n",
    "        print(optimized_theta)\n",
    "        V_hat.append(max(phi(x0, K,n,N), psi(x0, optimized_theta, K)))\n",
    "        thetas.append(optimized_theta)\n",
    "    return V_hat, thetas"
   ]
  },
  {
   "cell_type": "code",
   "execution_count": 331,
   "metadata": {},
   "outputs": [
    {
     "name": "stdout",
     "output_type": "stream",
     "text": [
      "[[ 0.00000000e+00  0.00000000e+00  0.00000000e+00  0.00000000e+00]\n",
      " [ 3.40248629e+02 -6.00904997e+00  2.65069579e-02  3.40462450e-02]\n",
      " [ 2.86002987e+02 -5.00272677e+00  2.18623665e-02  8.72861214e-02]\n",
      " [ 2.80607798e+02 -4.91355080e+00  2.14894321e-02  9.24497506e-02]\n",
      " [ 2.25877128e+02 -3.90786059e+00  1.68710055e-02  2.17980547e-01]\n",
      " [ 1.84366639e+02 -3.15996978e+00  1.35027677e-02  3.31730065e-01]\n",
      " [ 1.50491582e+02 -2.56173482e+00  1.08630851e-02  4.46915396e-01]\n",
      " [ 1.18539593e+02 -2.00500123e+00  8.44263229e-03  5.37298032e-01]\n",
      " [ 1.00056028e+02 -1.69000232e+00  7.10316360e-03  5.95624978e-01]\n",
      " [ 6.52775213e+01 -1.09399363e+00  4.55913577e-03  7.16158477e-01]]\n",
      "0\n",
      "[0. 0. 0. 0.]\n",
      "1\n",
      "[ 3.40248629e+02 -6.00904997e+00  2.65069579e-02  3.40462450e-02]\n",
      "2\n",
      "[ 2.86002987e+02 -5.00272677e+00  2.18623665e-02  8.72861214e-02]\n",
      "3\n",
      "[ 2.80607798e+02 -4.91355080e+00  2.14894321e-02  9.24497506e-02]\n",
      "4\n",
      "[ 2.25877128e+02 -3.90786059e+00  1.68710055e-02  2.17980547e-01]\n",
      "5\n",
      "[ 1.84366639e+02 -3.15996978e+00  1.35027677e-02  3.31730065e-01]\n",
      "6\n",
      "[ 1.50491582e+02 -2.56173482e+00  1.08630851e-02  4.46915396e-01]\n",
      "7\n",
      "[ 1.18539593e+02 -2.00500123e+00  8.44263229e-03  5.37298032e-01]\n",
      "8\n",
      "[ 1.00056028e+02 -1.69000232e+00  7.10316360e-03  5.95624978e-01]\n",
      "9\n",
      "[ 6.52775213e+01 -1.09399363e+00  4.55913577e-03  7.16158477e-01]\n",
      "([0.0, 4.413211276982679, 4.353974633651234, 4.147038328341381, 3.801124429638179, 3.3973386379240083, 2.948951366798596, 2.4657930176788483, 2.0874318516839026, 1.4695162139262692], [array([0., 0., 0., 0.]), array([ 3.40248629e+02, -6.00904997e+00,  2.65069579e-02,  3.40462450e-02]), array([ 2.86002987e+02, -5.00272677e+00,  2.18623665e-02,  8.72861214e-02]), array([ 2.80607798e+02, -4.91355080e+00,  2.14894321e-02,  9.24497506e-02]), array([ 2.25877128e+02, -3.90786059e+00,  1.68710055e-02,  2.17980547e-01]), array([ 1.84366639e+02, -3.15996978e+00,  1.35027677e-02,  3.31730065e-01]), array([ 1.50491582e+02, -2.56173482e+00,  1.08630851e-02,  4.46915396e-01]), array([ 1.18539593e+02, -2.00500123e+00,  8.44263229e-03,  5.37298032e-01]), array([ 1.00056028e+02, -1.69000232e+00,  7.10316360e-03,  5.95624978e-01]), array([ 6.52775213e+01, -1.09399363e+00,  4.55913577e-03,  7.16158477e-01])])\n"
     ]
    }
   ],
   "source": [
    "price_Gradient = longstaff_Schwartz_regression(S0, K, T, N, M)\n",
    "print(price_Gradient)"
   ]
  },
  {
   "cell_type": "code",
   "execution_count": 332,
   "metadata": {},
   "outputs": [
    {
     "name": "stdout",
     "output_type": "stream",
     "text": [
      "Le prix d'un Put bermudéen avec régression est  1.4695162139262692 $\n"
     ]
    }
   ],
   "source": [
    "print(\"Le prix d'un Put bermudéen avec régression est \", price_Gradient[0][-1], \"$\")"
   ]
  },
  {
   "cell_type": "markdown",
   "metadata": {},
   "source": [
    "On trouve une valeur bien plus faible que précédements, j'ai donc du faire une erreur dans mon inplémentation nottament lors de la régression car mes coefficients theta sont éloignés de ceux trouver dans la partie précédente"
   ]
  },
  {
   "cell_type": "markdown",
   "metadata": {},
   "source": [
    "# Même chose avec la première version de $\\Phi$"
   ]
  },
  {
   "cell_type": "markdown",
   "metadata": {},
   "source": [
    "## D'abord avec Scipy "
   ]
  },
  {
   "cell_type": "code",
   "execution_count": 317,
   "metadata": {},
   "outputs": [],
   "source": [
    "def psi_V2(x, theta, K):\n",
    "    return theta[0]+theta[1]*x+theta[2]*(x**2)\n",
    "\n",
    "# Algorithme de Longstaff-Scwartz\n",
    "def objective_function(theta, M, S, n, K, thetas):\n",
    "    result = 0\n",
    "    for j in range(M):\n",
    "        result += (V(S[n+1][j], n+1, thetas[-1], N, K) - psi_V2(S[n][j], theta, K))**2\n",
    "    return result/M\n",
    "\n",
    "def V(x, n, theta,N, K):\n",
    "    if n == N:\n",
    "        return phi(x,K,N,N)\n",
    "    else:\n",
    "        return max(phi(x, K,n,N), psi_V2(x, theta, K))\n",
    "\n",
    "def longstaff_Schwartz_V2(x0, K, T, N, M):\n",
    "    V_hat = [phi(x0, K,N, N)]\n",
    "    S_t = black_scholes_1d(n_times=N, n_paths=M, final_time= T, init_value=x0, r = r, sigma = sigma)\n",
    "    thetas = [[0,0,0]] #Peut importe les valeurs, on V_N ne dépend pas de theta\n",
    "    for n in reversed(range(N)):\n",
    "        print(n)\n",
    "        initial_theta = np.ones(3)\n",
    "\n",
    "        theta = minimize(objective_function, initial_theta, args=(M, S_t, n, K, thetas))\n",
    "        optimized_theta = theta.x\n",
    "        print(optimized_theta)\n",
    "        V_hat.append(max(phi(x0, K,n,N), psi_V2(x0, optimized_theta, K)))\n",
    "        thetas.append(optimized_theta)\n",
    "    return V_hat, thetas"
   ]
  },
  {
   "cell_type": "code",
   "execution_count": 318,
   "metadata": {},
   "outputs": [
    {
     "name": "stdout",
     "output_type": "stream",
     "text": [
      "9\n",
      "[ 2.06082540e+02 -3.61992695e+00  1.58077619e-02]\n",
      "8\n",
      "[ 2.23204013e+02 -3.95171459e+00  1.74499518e-02]\n",
      "7\n",
      "[ 2.38385680e+02 -4.24831526e+00  1.89098965e-02]\n",
      "6\n",
      "[ 2.48197194e+02 -4.44393834e+00  1.98936317e-02]\n",
      "5\n",
      "[ 2.55726962e+02 -4.60276634e+00  2.07326016e-02]\n",
      "4\n",
      "[ 2.62194890e+02 -4.74111549e+00  2.14749719e-02]\n",
      "3\n",
      "[ 2.67969094e+02 -4.86554830e+00  2.21499233e-02]\n",
      "2\n",
      "[ 2.61135909e+02 -4.74814158e+00  2.16659472e-02]\n",
      "1\n",
      "[ 2.42339370e+02 -4.38995182e+00  1.99709879e-02]\n",
      "0\n",
      "[ 0.99770046  0.99385543 -0.00973002]\n"
     ]
    }
   ],
   "source": [
    "price_V2 = longstaff_Schwartz_V2(S0, K, T, N, M)"
   ]
  },
  {
   "cell_type": "code",
   "execution_count": 319,
   "metadata": {},
   "outputs": [
    {
     "name": "stdout",
     "output_type": "stream",
     "text": [
      "Le prix d'un Put bermudéen avec scipy est  3.0830534726197243 $\n"
     ]
    }
   ],
   "source": [
    "print(\"Le prix d'un Put bermudéen avec scipy est \", price_V2[0][-1], \"$\")"
   ]
  },
  {
   "cell_type": "markdown",
   "metadata": {},
   "source": [
    "## Ensuite avec Régression OLS"
   ]
  },
  {
   "cell_type": "code",
   "execution_count": 339,
   "metadata": {},
   "outputs": [],
   "source": [
    "def simulate_V_V2(S,K,r,n,V):\n",
    "    if n==-1:\n",
    "        return V\n",
    "    else : \n",
    "        V[n] = np.maximum(psi_regression(S,K,n,N),V[n+1])\n",
    "        return simulate_V(S,K,r,n-1,V)\n",
    "\n",
    "def theta_regressions_V2(X, y, K):\n",
    "    n_times = X.shape[0]\n",
    "    theta_matrix = np.zeros((n_times-1, 3))\n",
    "\n",
    "    # EStimateur OlS\n",
    "    theta_matrix[1:, :] = [\n",
    "        np.linalg.inv(np.c_[np.ones((X_i.shape[0], 1)), X_i, X_i**2].T.dot(np.c_[np.ones((X_i.shape[0], 1)), X_i, X_i**2]))\n",
    "        .dot(np.c_[np.ones((X_i.shape[0], 1)), X_i, X_i**2].T)\n",
    "        .dot(y[i, :].reshape(-1, 1)).flatten()\n",
    "        for i, X_i in enumerate(X[1:-1, :])\n",
    "    ]\n",
    "\n",
    "    return theta_matrix\n",
    "\n",
    "def longstaff_Schwartz_regression_V2(x0, K, T, N, M):\n",
    "    S_t = black_scholes_1d(n_times=N, n_paths=M, final_time= T, init_value=x0, r = r, sigma = sigma)\n",
    "    thetas = []\n",
    "\n",
    "    V_simu = np.zeros_like(S_t)\n",
    "    V_simu[-1] = psi_regression(S_t, K, N, N)\n",
    "\n",
    "    V_simu = simulate_V(S_t,K,r,V_simu.shape[0]-2,V_simu)\n",
    "    theta_matrix = theta_regressions_V2(S_t, V_simu, K)\n",
    "    print(theta_matrix)\n",
    "    V_hat = []\n",
    "    for n in range(N):\n",
    "        print(n)\n",
    "        \n",
    "        optimized_theta = theta_matrix[n]\n",
    "        print(optimized_theta)\n",
    "        V_hat.append(max(phi(x0, K,n,N), psi_V2(x0, optimized_theta, K)))\n",
    "        thetas.append(optimized_theta)\n",
    "    return V_hat, thetas"
   ]
  },
  {
   "cell_type": "code",
   "execution_count": 340,
   "metadata": {},
   "outputs": [
    {
     "name": "stdout",
     "output_type": "stream",
     "text": [
      "[[ 0.00000000e+00  0.00000000e+00  0.00000000e+00]\n",
      " [ 3.81379665e+02 -6.82513988e+00  3.05552024e-02]\n",
      " [ 3.35988075e+02 -5.95694569e+00  2.64106920e-02]\n",
      " [ 3.20125843e+02 -5.65920404e+00  2.50061283e-02]\n",
      " [ 3.02459481e+02 -5.32432706e+00  2.34084441e-02]\n",
      " [ 2.90037760e+02 -5.10076255e+00  2.23878242e-02]\n",
      " [ 2.73295700e+02 -4.78660001e+00  2.09065506e-02]\n",
      " [ 2.61492278e+02 -4.57002051e+00  1.99002331e-02]\n",
      " [ 2.48200169e+02 -4.33010628e+00  1.88044717e-02]\n",
      " [ 2.28631077e+02 -3.97230532e+00  1.71638292e-02]]\n",
      "0\n",
      "[0. 0. 0.]\n",
      "1\n",
      "[ 3.81379665e+02 -6.82513988e+00  3.05552024e-02]\n",
      "2\n",
      "[ 3.35988075e+02 -5.95694569e+00  2.64106920e-02]\n",
      "3\n",
      "[ 3.20125843e+02 -5.65920404e+00  2.50061283e-02]\n",
      "4\n",
      "[ 3.02459481e+02 -5.32432706e+00  2.34084441e-02]\n",
      "5\n",
      "[ 2.90037760e+02 -5.10076255e+00  2.23878242e-02]\n",
      "6\n",
      "[ 2.73295700e+02 -4.78660001e+00  2.09065506e-02]\n",
      "7\n",
      "[ 2.61492278e+02 -4.57002051e+00  1.99002331e-02]\n",
      "8\n",
      "[ 2.48200169e+02 -4.33010628e+00  1.88044717e-02]\n",
      "9\n",
      "[ 2.28631077e+02 -3.97230532e+00  1.71638292e-02]\n",
      "([0.0, 4.41770165122216, 4.40042553513058, 4.266722084158005, 4.1112162315986325, 3.8397467254374362, 3.7012048698282456, 3.492558469634929, 3.234258222605945, 3.0388372710069973], [array([0., 0., 0.]), array([ 3.81379665e+02, -6.82513988e+00,  3.05552024e-02]), array([ 3.35988075e+02, -5.95694569e+00,  2.64106920e-02]), array([ 3.20125843e+02, -5.65920404e+00,  2.50061283e-02]), array([ 3.02459481e+02, -5.32432706e+00,  2.34084441e-02]), array([ 2.90037760e+02, -5.10076255e+00,  2.23878242e-02]), array([ 2.73295700e+02, -4.78660001e+00,  2.09065506e-02]), array([ 2.61492278e+02, -4.57002051e+00,  1.99002331e-02]), array([ 2.48200169e+02, -4.33010628e+00,  1.88044717e-02]), array([ 2.28631077e+02, -3.97230532e+00,  1.71638292e-02])])\n"
     ]
    }
   ],
   "source": [
    "price_V2_reg = longstaff_Schwartz_regression_V2(S0, K, T, N, M)\n",
    "print(price_V2_reg)"
   ]
  },
  {
   "cell_type": "code",
   "execution_count": 341,
   "metadata": {},
   "outputs": [
    {
     "name": "stdout",
     "output_type": "stream",
     "text": [
      "Le prix d'un Put bermudéen avec régression est  3.0388372710069973 $\n"
     ]
    }
   ],
   "source": [
    "print(\"Le prix d'un Put bermudéen avec régression est \", price_V2_reg[0][-1] , \"$\")"
   ]
  },
  {
   "cell_type": "code",
   "execution_count": null,
   "metadata": {},
   "outputs": [],
   "source": []
  },
  {
   "cell_type": "code",
   "execution_count": null,
   "metadata": {},
   "outputs": [],
   "source": []
  }
 ],
 "metadata": {
  "kernelspec": {
   "display_name": "Python 3 (ipykernel)",
   "language": "python",
   "name": "python3"
  },
  "language_info": {
   "codemirror_mode": {
    "name": "ipython",
    "version": 3
   },
   "file_extension": ".py",
   "mimetype": "text/x-python",
   "name": "python",
   "nbconvert_exporter": "python",
   "pygments_lexer": "ipython3",
   "version": "3.10.9"
  }
 },
 "nbformat": 4,
 "nbformat_minor": 2
}
