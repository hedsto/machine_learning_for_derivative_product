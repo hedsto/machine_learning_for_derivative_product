{
 "cells": [
  {
   "cell_type": "code",
   "execution_count": 1,
   "metadata": {},
   "outputs": [],
   "source": [
    "import numpy as np\n",
    "import matplotlib.pyplot as plt\n",
    "import matplotlib as mpl\n",
    "import seaborn as sns"
   ]
  },
  {
   "cell_type": "code",
   "execution_count": 2,
   "metadata": {},
   "outputs": [],
   "source": [
    "sns.set_style(\"whitegrid\")\n",
    "mpl.rcParams['figure.dpi'] = 100\n",
    "\n",
    "params_grid = {\"color\": 'lightgrey', \"linestyle\": 'dotted', \"linewidth\": 0.7 }"
   ]
  },
  {
   "cell_type": "markdown",
   "metadata": {},
   "source": [
    "# American Put Option - CRR model"
   ]
  },
  {
   "cell_type": "markdown",
   "metadata": {},
   "source": [
    "The CRR model is a binomial model that allows us to understand the principle of the algorithm of Longstaff-Schwartz that works backwarding. Indeed, for an american option we can exerce it any time before maturity $T$. \n",
    "\n",
    "What is behind the CRR model and more genrally the LS algorthm ? \n",
    "\n",
    "In the binomial model, we discretize both time and Gain/Cost. The principle is to find the expected winning/cost at each time $ t_n = n \\frac{T}{N}$  where $n = 0, ..., N$ if we use the option at each of those times. Hence by thinking backwarding, at each step $i$, we must choose the maximum between the expected gain if we continue the game or if we stop at step n."
   ]
  },
  {
   "cell_type": "markdown",
   "metadata": {},
   "source": [
    "Mathematically, it corresponds to the following definition and properties.\n",
    "\n",
    "We denote $X_n = X_{t_{n}}$ a markov chain (ex : an asset) with $P_n$ for transition matrix. We denote $Z_n = \\phi_n(X_n)$ the actual payoff of the option. For instance, if we have an American Put, we will have $\\phi(x) = (K-s)_{+}$\n",
    "\n",
    "Then the algorithm to find the price of this option is : \n",
    "$$V_N(x) = \\phi_N(x)$$\n",
    "$$V_n(x) = max(\\phi_n(x),P_{n+1} V_{n+1}(x)$$"
   ]
  },
  {
   "cell_type": "markdown",
   "metadata": {},
   "source": [
    "### Parameter Option"
   ]
  },
  {
   "cell_type": "code",
   "execution_count": 3,
   "metadata": {},
   "outputs": [],
   "source": [
    "# Parameter of the model\n",
    "\n",
    "N = 10      # Nomber of periods to build the binomial tree\n",
    "M = 10000\n",
    "T = 1\n",
    "S0 = 100\n",
    "K = 100\n",
    "sigma = 0.1\n",
    "r = 0.04\n",
    "u = np.exp(sigma * np.sqrt(T/N))\n",
    "d = 1/u\n",
    "p = (1+(r-0.5*sigma**2)*np.sqrt(T/N)/(2*sigma))\n",
    "if N < (r-0.5 * sigma**2)**2 * T/(sigma**2):\n",
    "    print(\"Error\")\n",
    "\n",
    "if (N <= 10):\n",
    "    size_N = 60  \n",
    "    lw_N = 2     \n",
    "\n",
    "if (N > 10):\n",
    "    size_N = 6\n",
    "    lw_N = 1.5"
   ]
  },
  {
   "cell_type": "code",
   "execution_count": 4,
   "metadata": {},
   "outputs": [
    {
     "data": {
      "text/plain": [
       "array([8.9427723 , 3.07567019, 0.        , 0.        ])"
      ]
     },
     "execution_count": 4,
     "metadata": {},
     "output_type": "execute_result"
    }
   ],
   "source": [
    "# states represent the possible values in n : \n",
    "# states of a Markov Chain : X_n\n",
    "\n",
    "states = np.array([np.arange(i+1) for i in range(N+1)], dtype = object)\n",
    "\n",
    "payoffs = [np.exp(-r*n*T/N)*np.maximum(K-S0*(u**xn)*(d**(n-xn)), 0) for n,xn in enumerate(states)]\n",
    "payoffs[3]"
   ]
  },
  {
   "cell_type": "code",
   "execution_count": 5,
   "metadata": {},
   "outputs": [
    {
     "data": {
      "image/png": "[encoded data removed]",
      "text/plain": [
       "<Figure size 640x480 with 1 Axes>"
      ]
     },
     "metadata": {},
     "output_type": "display_data"
    }
   ],
   "source": [
    "\n",
    "fig, ax = plt.subplots()\n",
    "ax.grid(**params_grid)\n",
    "for n in range(N+1):\n",
    "    for z in payoffs[n]:\n",
    "        ax.scatter(n, z, color='grey', marker='o', s=size_N)\n"
   ]
  },
  {
   "cell_type": "code",
   "execution_count": 6,
   "metadata": {},
   "outputs": [
    {
     "data": {
      "text/plain": [
       "array([[0.44454338, 0.55545662, 0.        , 0.        , 0.        ],\n",
       "       [0.        , 0.44454338, 0.55545662, 0.        , 0.        ],\n",
       "       [0.        , 0.        , 0.44454338, 0.55545662, 0.        ],\n",
       "       [0.        , 0.        , 0.        , 0.44454338, 0.55545662]])"
      ]
     },
     "execution_count": 6,
     "metadata": {},
     "output_type": "execute_result"
    }
   ],
   "source": [
    "# transition matrix of the markov chain\n",
    "P = [np.zeros((len(states[n]), len(states[n+1]))) for n in range(N)]\n",
    "for n in range(N):\n",
    "    for i, x in enumerate(states[n]):\n",
    "        for j, y in enumerate(states[n+1]):\n",
    "            #proba risque neutre\n",
    "            q = (np.exp(r*T/N)-d)/(u-d)\n",
    "            if (y==x):\n",
    "                P[n][i,j] = 1-q\n",
    "            elif y==x+1:\n",
    "                P[n][i,j] = q\n",
    "\n",
    "P[3]\n"
   ]
  },
  {
   "cell_type": "markdown",
   "metadata": {},
   "source": [
    "# Construction of the values function $V_n$"
   ]
  },
  {
   "cell_type": "code",
   "execution_count": 7,
   "metadata": {},
   "outputs": [],
   "source": [
    "V = [np.copy(payoffs[n]) for n in range(N+1)]\n",
    "for n in reversed(range(N)):\n",
    "    # payoffs[n] corresponds to Z_n\n",
    "    # P[n] @ V[n+1] corresponds to the conditional esperance  E[S_{n+1} | F_n] où S_n = V_n(X_n)\n",
    "    V[n] = np.maximum(payoffs[n], P[n] @ V[n+1]) # backwarding recurrence on the values function"
   ]
  },
  {
   "cell_type": "code",
   "execution_count": 8,
   "metadata": {},
   "outputs": [
    {
     "data": {
      "text/plain": [
       "array([2.61692878])"
      ]
     },
     "execution_count": 8,
     "metadata": {},
     "output_type": "execute_result"
    }
   ],
   "source": [
    "V[0]"
   ]
  },
  {
   "cell_type": "code",
   "execution_count": 10,
   "metadata": {},
   "outputs": [
    {
     "name": "stdout",
     "output_type": "stream",
     "text": [
      "The value of an American Put is: 2.61693\n"
     ]
    }
   ],
   "source": [
    "print(f\"The value of an American Put is: {V[0][0]:.6}\")\n"
   ]
  },
  {
   "cell_type": "markdown",
   "metadata": {},
   "source": [
    "# Bonus : Moyennisation sur M scénarios"
   ]
  },
  {
   "cell_type": "code",
   "execution_count": 11,
   "metadata": {},
   "outputs": [
    {
     "name": "stdout",
     "output_type": "stream",
     "text": [
      "The value of the estimator with 10000 draw is : 2.614, and the estimated variance is 10.43.\n",
      "The true value belongs to the interval [2.55, 2.677] with proba  0.95 (M = 10000).\n",
      "The true value is : 2.61693\n"
     ]
    }
   ],
   "source": [
    "stop = [(payoffs[n] == V[n]).astype('int') for n in range(N+1)]\n",
    "\n",
    "\n",
    "M = int(1e4)\n",
    "gains_opt = np.zeros(M)\n",
    "path = np.zeros(N+1, dtype=int)\n",
    "for j in range(M):\n",
    "    for n in range(1, N+1): \n",
    "        path[n] = np.random.choice(np.arange(P[n-1].shape[1]), 1, p=P[n-1][path[n-1]])[0]\n",
    "        if (stop[n][path[n]] == 1): break # on sort et la valeur n est figée \n",
    "    gains_opt[j] = payoffs[n][path[n]]  \n",
    "\n",
    "# V_0 = E[Z_\\tau^*] \n",
    "m = np.mean(gains_opt)\n",
    "ic_size = 1.96 * np.sqrt(np.var(gains_opt, ddof=1) / M) \n",
    "print(f\"The value of the estimator with {M} draw is : {m:.4}, and the estimated variance is {np.var(gains_opt):.4}.\")\n",
    "print(f\"The true value belongs to the interval [{m-ic_size:.4}, {m+ic_size:.4}] with proba  0.95 (M = {M}).\")\n",
    "print(f\"The true value is : {V[0][0]:.6}\")\n",
    "\n"
   ]
  },
  {
   "cell_type": "code",
   "execution_count": null,
   "metadata": {},
   "outputs": [],
   "source": []
  },
  {
   "cell_type": "code",
   "execution_count": null,
   "metadata": {},
   "outputs": [],
   "source": []
  }
 ],
 "metadata": {
  "kernelspec": {
   "display_name": "base",
   "language": "python",
   "name": "python3"
  },
  "language_info": {
   "codemirror_mode": {
    "name": "ipython",
    "version": 3
   },
   "file_extension": ".py",
   "mimetype": "text/x-python",
   "name": "python",
   "nbconvert_exporter": "python",
   "pygments_lexer": "ipython3",
   "version": "3.10.9"
  }
 },
 "nbformat": 4,
 "nbformat_minor": 2
}
